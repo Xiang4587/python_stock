{
 "cells": [
  {
   "cell_type": "markdown",
   "metadata": {},
   "source": [
    "## Load Data"
   ]
  },
  {
   "cell_type": "code",
   "execution_count": 1,
   "metadata": {},
   "outputs": [],
   "source": [
    "import json\n",
    "import numpy as np\n",
    "import pandas as pd\n",
    "import os"
   ]
  },
  {
   "cell_type": "code",
   "execution_count": 2,
   "metadata": {},
   "outputs": [],
   "source": [
    "path = 'json/'\n",
    "filename = [] #json資料夾下所有檔案名稱(YYYY-MM-DD.json)\n",
    "DF_list = []  #YYYY-MM-DD\n",
    "\n",
    "for i in os.listdir(path):\n",
    "    filename.append(i)\n",
    "    DF_list.append(i[:-5])"
   ]
  },
  {
   "cell_type": "code",
   "execution_count": 3,
   "metadata": {},
   "outputs": [
    {
     "name": "stdout",
     "output_type": "stream",
     "text": [
      "2018-10-02\n"
     ]
    }
   ],
   "source": [
    "day = input()\n",
    "day_index = DF_list.index(day)"
   ]
  },
  {
   "cell_type": "code",
   "execution_count": 4,
   "metadata": {},
   "outputs": [
    {
     "name": "stdout",
     "output_type": "stream",
     "text": [
      "['2018-09-25', '2018-09-26', '2018-09-27', '2018-09-28', '2018-10-01']\n"
     ]
    }
   ],
   "source": [
    "#------------Stored testing data---------------\n",
    "files_recent = {}\n",
    "fr_list = []\n",
    "count = 5\n",
    "\n",
    "for i in range(day_index-count,day_index):\n",
    "    fr_list.append(filename[i][:-5])\n",
    "    with open(path+filename[i]) as f:\n",
    "        symbol_f = json.load(f)\n",
    "    files_recent[filename[i][:-5]] = symbol_f\n",
    "    f.close\n",
    "\n",
    "print(fr_list)"
   ]
  },
  {
   "cell_type": "code",
   "execution_count": 5,
   "metadata": {},
   "outputs": [
    {
     "name": "stdout",
     "output_type": "stream",
     "text": [
      "dict_keys(['adj_close', 'close', 'high', 'low', 'open', 'volume'])\n"
     ]
    }
   ],
   "source": [
    "print(files_recent['2018-10-01']['0050'].keys())"
   ]
  },
  {
   "cell_type": "code",
   "execution_count": 20,
   "metadata": {},
   "outputs": [],
   "source": [
    "Stock_sym = [sym for sym in files_recent[fr_list[-1]].keys()]\n",
    "Stock_sym.remove('id')\n",
    "New_sym = []\n",
    "Stock_feature = []\n",
    "Close = []\n",
    "#Open = []\n",
    "#Volume = []\n",
    "#C = []\n",
    "#O = []\n",
    "\n",
    "for symbol in Stock_sym:\n",
    "    tmp = []\n",
    "    for i in range(0,count):\n",
    "        if symbol not in files_recent[fr_list[-1-i]].keys():\n",
    "            break\n",
    "        for attr in ['adj_close','close','high','low','open','volume']: #['adj_close','close','high','low','open','volume']:\n",
    "            if files_recent[fr_list[-1-i]][symbol][attr] == None or files_recent[fr_list[-1-i]][symbol][attr] == 'NULL':\n",
    "                break\n",
    "            #if attr == 'close':\n",
    "            #    C.append(float(files_recent[fr_list[-1-i]][symbol]['close']))\n",
    "            #if attr == 'open':\n",
    "            #    O.append(float(files_recent[fr_list[-1-i]][symbol]['open']))\n",
    "            if attr != 'close':\n",
    "                tmp.append(float(files_recent[fr_list[-1-i]][symbol][attr]))\n",
    "                \n",
    "    if len(tmp) != 25:\n",
    "        continue\n",
    "    if files_recent[fr_list[-1]][symbol]['close'] != None or files_recent[fr_list[-1]][symbol]['close'] != 'NULL':\n",
    "        Stock_feature.append(tmp)\n",
    "        New_sym.append(symbol)\n",
    "        Close.append(float(files_recent[fr_list[-1]][symbol]['close']))"
   ]
  },
  {
   "cell_type": "code",
   "execution_count": 24,
   "metadata": {},
   "outputs": [
    {
     "name": "stdout",
     "output_type": "stream",
     "text": [
      "5339\n",
      "5339\n",
      "5339\n"
     ]
    }
   ],
   "source": [
    "print(len(Stock_feature))\n",
    "print(len(New_sym))\n",
    "print(len(Close))"
   ]
  },
  {
   "cell_type": "code",
   "execution_count": null,
   "metadata": {},
   "outputs": [],
   "source": [
    "New_sym = numpy.array(New_sym)\n",
    "recent_days = numpy.array(Stock_feature)\n",
    "stock_close = numpy.array(Close)\n",
    "stock_open = numpy.array(Open)\n",
    "\n",
    "numpy.save('/output/recent_days', recent_days)\n",
    "numpy.save('/output/close_today', close_today)\n",
    "\n",
    "x_predicted = numpy.load('../output/recent_days.npy')\n",
    "y_today = numpy.load('../output/close_today.npy')"
   ]
  },
  {
   "cell_type": "markdown",
   "metadata": {},
   "source": [
    "## 取一個月的時間作為Trainning Data"
   ]
  },
  {
   "cell_type": "code",
   "execution_count": 25,
   "metadata": {},
   "outputs": [],
   "source": [
    "#-----------Stored trainning data--------------\n",
    "fro = filename.index('2017-06-01.json')\n",
    "to = filename.index('2017-09-30.json')\n",
    "\n",
    "DF_list = [filename[d][:-5] for d in range(fro,to+1)]\n",
    "DF = {}\n",
    "for i in range(fro,to+1):\n",
    "    with open('json/'+filename[i]) as f:\n",
    "        symbol_f = json.load(f)\n",
    "    DF[filename[i][:-5]] = symbol_f\n",
    "    f.close()"
   ]
  },
  {
   "cell_type": "code",
   "execution_count": 26,
   "metadata": {},
   "outputs": [
    {
     "name": "stdout",
     "output_type": "stream",
     "text": [
      "2017-06-07\n"
     ]
    }
   ],
   "source": [
    "print(DF_list[5])"
   ]
  },
  {
   "cell_type": "code",
   "execution_count": 27,
   "metadata": {
    "scrolled": true
   },
   "outputs": [],
   "source": [
    "stock_feature = []\n",
    "#close_td = []\n",
    "#O_td = []\n",
    "#C_td = []\n",
    "#Open_td = []\n",
    "#Close_td = []\n",
    "new_sym = []\n",
    "pre_close =[]\n",
    "\n",
    "for i in range(5, len(DF_list)):\n",
    "    stock_list = list(DF[DF_list[i]].keys())\n",
    "    stock_list.remove('id')\n",
    "    \n",
    "\n",
    "    for stock in stock_list:\n",
    "        \n",
    "#        if stock not in DF[DF_list[i+1]].keys():\n",
    "#            continue\n",
    "            \n",
    "        tmp = []   \n",
    "        for j in range(0, 5):\n",
    "            if stock not in DF[DF_list[i-j-1]].keys():\n",
    "                break\n",
    "            for attr in ['adj_close','close','high','low','open','volume']:\n",
    "                if DF[DF_list[i-j-1]][stock][attr] == None or DF[DF_list[i-j-1]][stock][attr] == 'NULL':\n",
    "                    break\n",
    "#                if attr == 'close':\n",
    "#                    C_td.append(float(DF[DF_list[i-j-1]][stock]['close']))\n",
    "#                if attr == 'open':\n",
    "#                    O_td.append(float(DF[DF_list[i-j-1]][stock]['open']))\n",
    "                if attr != 'close':\n",
    "                    tmp.append(float(DF[DF_list[i-j-1]][stock][attr]))\n",
    "            \n",
    "            \n",
    "        if len(tmp) != 25:\n",
    "            continue\n",
    "            \n",
    "        if DF[DF_list[i]][stock]['close'] != 'NULL' and DF[DF_list[i]][stock]['close'] != None:\n",
    "            #ans = 1 if float(content[day_list[i+1]][stock]['close']) - float(content[day_list[i]][stock]['close']) > 0 else 0           \n",
    "            new_sym.append(stock)\n",
    "            stock_feature.append(tmp)\n",
    "            pre_close.append(float(DF[DF_list[i]][stock]['close']))"
   ]
  },
  {
   "cell_type": "code",
   "execution_count": 32,
   "metadata": {},
   "outputs": [
    {
     "name": "stdout",
     "output_type": "stream",
     "text": [
      "[77.95, 34.35, 27.5, 10.85, 25.45, 9.58, 10.3, 15.7, 19.25, 24.8, 32.0, 16.95, 67.5, 60.4, 7.66, 17.2, 16.8, 10.8, 80.4, 27.7]\n"
     ]
    }
   ],
   "source": [
    "print(pre_close[:20])"
   ]
  },
  {
   "cell_type": "code",
   "execution_count": 28,
   "metadata": {},
   "outputs": [
    {
     "name": "stdout",
     "output_type": "stream",
     "text": [
      "304997\n",
      "304997\n"
     ]
    }
   ],
   "source": [
    "print(len(pre_close))\n",
    "print(len(stock_feature))\n",
    "#print(len(Close_td))"
   ]
  },
  {
   "cell_type": "code",
   "execution_count": 45,
   "metadata": {},
   "outputs": [],
   "source": [
    "new_sym = np.array(new_sym)\n",
    "recent_days = np.array(stock_feature)\n",
    "stock_close = np.array(pre_close)\n",
    "#stock_open = numpy.array(Open)\n",
    "\n",
    "np.save('output/recent_days.npy', recent_days)\n",
    "np.save('output/close_today.npy', stock_close)"
   ]
  },
  {
   "cell_type": "code",
   "execution_count": 44,
   "metadata": {},
   "outputs": [],
   "source": [
    "a = np.array([i for i in range(20)])\n",
    "np.save('output/a.npy',a)"
   ]
  },
  {
   "cell_type": "markdown",
   "metadata": {},
   "source": [
    "## Load Model & Predict"
   ]
  },
  {
   "cell_type": "code",
   "execution_count": null,
   "metadata": {},
   "outputs": [],
   "source": [
    "from sklearn.ensemble import RandomForestRegressor\n",
    "from sklearn.svm import SVR\n",
    "from sklearn.preprocessing import StandardScaler\n",
    "from sklearn.pipeline import Pipeline"
   ]
  }
 ],
 "metadata": {
  "kernelspec": {
   "display_name": "Python 3",
   "language": "python",
   "name": "python3"
  },
  "language_info": {
   "codemirror_mode": {
    "name": "ipython",
    "version": 3
   },
   "file_extension": ".py",
   "mimetype": "text/x-python",
   "name": "python",
   "nbconvert_exporter": "python",
   "pygments_lexer": "ipython3",
   "version": "3.7.0"
  }
 },
 "nbformat": 4,
 "nbformat_minor": 2
}
