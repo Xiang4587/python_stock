{
 "cells": [
  {
   "cell_type": "markdown",
   "metadata": {},
   "source": [
    "## Load Data"
   ]
  },
  {
   "cell_type": "code",
   "execution_count": 1,
   "metadata": {},
   "outputs": [],
   "source": [
    "import json\n",
    "import numpy as np\n",
    "import pandas as pd\n",
    "import os"
   ]
  },
  {
   "cell_type": "code",
   "execution_count": 2,
   "metadata": {},
   "outputs": [],
   "source": [
    "path = 'json/'\n",
    "filename = [] #json資料夾下所有檔案名稱(YYYY-MM-DD.json)\n",
    "DF_list = []  #YYYY-MM-DD\n",
    "\n",
    "for i in os.listdir(path):\n",
    "    filename.append(i)\n",
    "    DF_list.append(i[:-5])"
   ]
  },
  {
   "cell_type": "code",
   "execution_count": 3,
   "metadata": {},
   "outputs": [
    {
     "name": "stdout",
     "output_type": "stream",
     "text": [
      "2018-10-02\n"
     ]
    }
   ],
   "source": [
    "day = input()\n",
    "day_index = DF_list.index(day)"
   ]
  },
  {
   "cell_type": "code",
   "execution_count": 4,
   "metadata": {},
   "outputs": [
    {
     "name": "stdout",
     "output_type": "stream",
     "text": [
      "['2018-09-25', '2018-09-26', '2018-09-27', '2018-09-28', '2018-10-01']\n"
     ]
    }
   ],
   "source": [
    "#------------Stored testing data---------------\n",
    "files_recent = {}\n",
    "fr_list = []\n",
    "count = 5\n",
    "\n",
    "for i in range(day_index-count,day_index):\n",
    "    fr_list.append(filename[i][:-5])\n",
    "    with open(path+filename[i]) as f:\n",
    "        symbol_f = json.load(f)\n",
    "    files_recent[filename[i][:-5]] = symbol_f\n",
    "    f.close\n",
    "\n",
    "print(fr_list)"
   ]
  },
  {
   "cell_type": "code",
   "execution_count": 5,
   "metadata": {},
   "outputs": [
    {
     "name": "stdout",
     "output_type": "stream",
     "text": [
      "dict_keys(['adj_close', 'close', 'high', 'low', 'open', 'volume'])\n"
     ]
    }
   ],
   "source": [
    "print(files_recent['2018-10-01']['0050'].keys())"
   ]
  },
  {
   "cell_type": "code",
   "execution_count": 6,
   "metadata": {},
   "outputs": [],
   "source": [
    "Stock_sym = [sym for sym in files_recent[fr_list[-1]].keys()]\n",
    "Stock_sym.remove('id')\n",
    "New_sym = []\n",
    "Stock_feature = []\n",
    "Close = []\n",
    "Open = []\n",
    "Volume = []\n",
    "C = []\n",
    "O = []\n",
    "\n",
    "for symbol in Stock_sym:\n",
    "    tmp = []\n",
    "    for i in range(0,count):\n",
    "        if symbol not in files_recent[fr_list[-1-i]].keys():\n",
    "            break\n",
    "        for attr in ['adj_close','close','high','low','open','volume']: #['adj_close','close','high','low','open','volume']:\n",
    "            if files_recent[fr_list[-1-i]][symbol][attr] == None or files_recent[fr_list[-1-i]][symbol][attr] == 'NULL':\n",
    "                break\n",
    "            if attr == 'close':\n",
    "                C.append(float(files_recent[fr_list[-1-i]][symbol]['close']))\n",
    "            if attr == 'open':\n",
    "                O.append(float(files_recent[fr_list[-1-i]][symbol]['open']))\n",
    "            if attr != 'close':\n",
    "                tmp.append(float(files_recent[fr_list[-1-i]][symbol][attr]))\n",
    "                \n",
    "    if len(tmp) != 25:\n",
    "        continue\n",
    "    Close.append(C)\n",
    "    Open.append(O)\n",
    "    Stock_feature.append(tmp)\n",
    "    New_sym.append(symbol)"
   ]
  },
  {
   "cell_type": "code",
   "execution_count": 14,
   "metadata": {},
   "outputs": [
    {
     "name": "stdout",
     "output_type": "stream",
     "text": [
      "5339\n",
      "5339\n",
      "5339\n"
     ]
    }
   ],
   "source": [
    "print(len(Close))\n",
    "print(len(Open))\n",
    "print(len(Stock_feature))"
   ]
  },
  {
   "cell_type": "code",
   "execution_count": null,
   "metadata": {},
   "outputs": [],
   "source": [
    "New_sym = numpy.array(New_sym)\n",
    "recent_days = numpy.array(Stock_feature)\n",
    "stock_close = numpy.array(Close)\n",
    "stock_open = numpy.array(Open)\n",
    "\n",
    "numpy.save('../output/recent_days', recent_days)\n",
    "numpy.save('../output/close_today', close_today)\n",
    "\n",
    "x_predicted = numpy.load('../output/recent_days.npy')\n",
    "y_today = numpy.load('../output/close_today.npy')"
   ]
  },
  {
   "cell_type": "markdown",
   "metadata": {},
   "source": [
    "## 取一個月的時間作為Trainning Data"
   ]
  },
  {
   "cell_type": "code",
   "execution_count": 7,
   "metadata": {},
   "outputs": [],
   "source": [
    "#-----------Stored trainning data--------------\n",
    "fro = filename.index('2017-06-01.json')\n",
    "to = filename.index('2017-09-30.json')\n",
    "\n",
    "DF_list = [filename[d][:-5] for d in range(fro,to+1)]\n",
    "DF = {}\n",
    "for i in range(fro,to+1):\n",
    "    with open('json/'+filename[i]) as f:\n",
    "        symbol_f = json.load(f)\n",
    "    DF[filename[i][:-5]] = symbol_f\n",
    "    f.close()"
   ]
  },
  {
   "cell_type": "code",
   "execution_count": 9,
   "metadata": {},
   "outputs": [
    {
     "name": "stdout",
     "output_type": "stream",
     "text": [
      "2017-06-07\n"
     ]
    }
   ],
   "source": [
    "print(DF_list[5])"
   ]
  },
  {
   "cell_type": "code",
   "execution_count": 20,
   "metadata": {},
   "outputs": [
    {
     "name": "stdout",
     "output_type": "stream",
     "text": [
      "['0050', '1101', '1102', '1103', '1104', '1108', '1109', '1110', '1201', '1203', '1210', '1213', '1215', '1216', '1217', '1218', '1219', '1220', '1225', '1227', '1229', '1231', '1232', '1233', '1234', '1235', '1236', '1256', '1262', '1301', '1303', '1304', '1305', '1307', '1308', '1309', '1310', '1312', '1313', '1314', '1315', '1316', '1319', '1321', '1323', '1324', '1325', '1326', '1337', '1338', '1339', '1340', '1402', '1409', '1410', '1413', '1414', '1416', '1417', '1418', '1419', '1423', '1432', '1434', '1435', '1436', '1437', '1438', '1439', '1440', '1441', '1442', '1443', '1444', '1445', '1446', '1447', '1449', '1451', '1452', '1453', '1454', '1455', '1456', '1457', '1459', '1460', '1463', '1464', '1465', '1466', '1467', '1468', '1469', '1470', '1471', '1472', '1473', '1474', '1475', '1476', '1477', '1503', '1504', '1506', '1507', '1512', '1513', '1514', '1515', '1516', '1517', '1519', '1521', '1522', '1524', '1525', '1526', '1527', '1528', '1529', '1530', '1531', '1532', '1533', '1535', '1536', '1537', '1538', '1539', '1540', '1541', '1558', '1560', '1568', '1582', '1583', '1589', '1590', '1592', '1598', '1603', '1604', '1605', '1608', '1609', '1611', '1612', '1614', '1615', '1616', '1617', '1618', '1626', '1701', '1702', '1704', '1707', '1708', '1709', '1710', '1711', '1712', '1713', '1714', '1715', '1717', '1718', '1720', '1721', '1722', '1723', '1724', '1725', '1726', '1727', '1730', '1731', '1732', '1733', '1734', '1735', '1736', '1737', '1762', '1773', '1776', '1783', '1786', '1789', '1802', '1805', '1806', '1808', '1809', '1810', '1817', '1902', '1903', '1904', '1905', '1906', '1907', '1909', '2002', '2006', '2007', '2008', '2009', '2010', '2012', '2013', '2014', '2015', '2017', '2020', '2022', '2023', '2024', '2025', '2027', '2028', '2029', '2030', '2031', '2032', '2033', '2034', '2038', '2049', '2059', '2062', '2069', '2101', '2102', '2103', '2104', '2105', '2106', '2107', '2108', '2109', '2114', '2115', '2201', '2204', '2206', '2207', '2208', '2227', '2228', '2231', '2236', '2239', '2301', '2302', '2303', '2305', '2308', '2311', '2312', '2313', '2314', '2316', '2317', '2321', '2323', '2324', '2325', '2327', '2328', '2329', '2330', '2331', '2332', '2337', '2338', '2340', '2342', '2344', '2345', '2347', '2348', '2349', '2351', '2352', '2353', '2354', '2355', '2356', '2357', '2358', '2359', '2360', '2362', '2363', '2364', '2365', '2367', '2368', '2369', '2371', '2373', '2374', '2375', '2376', '2377', '2379', '2380', '2382', '2383', '2385', '2387', '2388', '2390', '2392', '2393', '2395', '2397', '2399', '2401', '2402', '2404', '2405', '2406', '2408', '2409', '2412', '2413', '2414', '2415', '2417', '2419', '2420', '2421', '2423', '2424', '2425', '2426', '2427', '2428', '2429', '2430', '2431', '2433', '2434', '2436', '2437', '2438', '2439', '2440', '2441', '2442', '2443', '2444', '2448', '2449', '2450', '2451', '2453', '2454', '2455', '2456', '2457', '2458', '2459', '2460', '2461', '2462', '2464', '2465', '2466', '2467', '2468', '2471', '2472', '2474', '2475', '2476', '2477', '2478', '2480', '2481', '2482', '2483', '2484', '2485', '2486', '2488', '2489', '2491', '2492', '2493', '2495', '2496', '2497', '2498', '2499', '2501', '2504', '2505', '2506', '2509', '2511', '2514', '2515', '2516', '2520', '2524', '2527', '2528', '2530', '2534', '2535', '2536', '2537', '2538', '2539', '2540', '2542', '2543', '2545', '2546', '2547', '2548', '2597', '2601', '2603', '2605', '2606', '2607', '2608', '2609', '2610', '2611', '2612', '2613', '2614', '2615', '2616', '2617', '2618', '2633', '2634', '2636', '2637', '2642', '2701', '2702', '2704', '2705', '2706', '2707', '2712', '2722', '2723', '2727', '2731', '2739', '2748', '2801', '2809', '2812', '2816', '2820', '2823', '2832', '2834', '2836', '2838', '2841', '2845', '2849', '2850', '2851', '2852', '2855', '2856', '2867', '2880', '2881', '2882', '2883', '2884', '2885', '2886', '2887', '2888', '2889', '2890', '2891', '2892', '2897', '2901', '2903', '2904', '2905', '2906', '2908', '2910', '2911', '2912', '2913', '2915', '2923', '2929', '2936', '3002', '3003', '3004', '3005', '3006', '3008', '3010', '3011', '3013', '3014', '3015', '3016', '3017', '3018', '3019', '3021', '3022', '3023', '3024', '3025', '3026', '3027', '3028', '3029', '3030', '3031', '3032', '3033', '3034', '3035', '3036', '3037', '3038', '3040', '3041', '3042', '3043', '3044', '3045', '3046', '3047', '3048', '3049', '3050', '3051', '3052', '3054', '3055', '3056', '3057', '3058', '3059', '3060', '3062', '3090', '3094', '3130', '3149', '3164', '3167', '3189', '3209', '3229', '3231', '3257', '3266', '3296', '3305', '3308', '3311', '3312', '3315', '3321', '3338', '3346', '3356', '3376', '3380', '3383', '3406', '3413', '3416', '3419', '3432', '3437', '3443', '3450', '3454', '3481', '3494', '3501', '3504', '3514', '3515', '3518', '3519', '3528', '3532', '3533', '3535', '3536', '3545', '3550', '3557', '3559', '3561', '3576', '3579', '3583', '3588', '3591', '3593', '3596', '3605', '3607', '3617', '3622', '3645', '3653', '3661', '3665', '3669', '3673', '3679', '3682', '3686', '3694', '3698', '3701', '3702', '3703', '3704', '3705', '3706', '3708', '4104', '4106', '4108', '4119', '4133', '4137', '4141', '4142', '4144', '4164', '4190', '4306', '4414', '4426', '4438', '4526', '4532', '4536', '4545', '4551', '4552', '4555', '4557', '4560', '4720', '4722', '4725', '4737', '4746', '4755', '4763', '4904', '4906', '4912', '4915', '4916', '4919', '4927', '4930', '4934', '4935', '4938', '4942', '4943', '4952', '4956', '4958', '4960', '4968', '4976', '4977', '4984', '4994', '4999', '5007', '5203', '5215', '5225', '5234', '5243', '5258', '5259', '5264', '5269', '5284', '5285', '5288', '5305', '5388', '5434', '5469', '5471', '5484', '5515', '5519', '5521', '5522', '5525', '5531', '5533', '5534', '5538', '5607', '5608', '5706', '5871', '5880', '5906', '5907', '6005', '6108', '6112', '6115', '6116', '6117', '6120', '6128', '6131', '6133', '6136', '6139', '6141', '6142', '6145', '6152', '6153', '6155', '6164', '6165', '6166', '6168', '6172', '6176', '6177', '6183', '6184', '6189', '6191', '6192', '6196', '6197', '6201', '6202', '6205', '6206', '6209', '6213', '6214', '6215', '6216', '6224', '6225', '6226', '6230', '6235', '6239', '6243', '6251', '6257', '6269', '6271', '6277', '6278', '6281', '6282', '6283', '6285', '6289', '6405', '6409', '6412', '6414', '6415', '6422', '6431', '6442', '6443', '6449', '6451', '6452', '6456', '6464', '6477', '6504', '6505', '6525', '6531', '6533', '6552', '6605', '8011', '8016', '8021', '8033', '8039', '8046', '8070', '8072', '8081', '8101', '8103', '8105', '8110', '8112', '8114', '8131', '8150', '8163', '8201', '8210', '8213', '8215', '8222', '8249', '8261', '8271', '8341', '8374', '8404', '8411', '8422', '8427', '8429', '8442', '8443', '8454', '8463', '8464', '8466', '8467', '8473', '8480', '8481', '8488', '8926', '8940', '8996', '9103', '9105', '9106', '9110', '9136', '9157', '9188', '9802', '9902', '9904', '9905', '9906', '9907', '9908', '9910', '9911', '9912', '9914', '9917', '9918', '9919', '9921', '9924', '9925', '9926', '9927', '9928', '9929', '9930', '9931', '9933', '9934', '9935', '9937', '9938', '9939', '9940', '9941', '9942', '9943', '9944', '9945', '9946', '9955', '9958', 'id']\n"
     ]
    }
   ],
   "source": [
    "print(list(stock_list))"
   ]
  },
  {
   "cell_type": "code",
   "execution_count": null,
   "metadata": {
    "scrolled": true
   },
   "outputs": [],
   "source": [
    "stock_feature = []\n",
    "close_td = []\n",
    "O_td = []\n",
    "C_td = []\n",
    "Open_td = []\n",
    "Close_td = []\n",
    "new_sym = []\n",
    "pre_close =[]\n",
    "\n",
    "for i in range(5, len(DF_list)):#i自5開始\n",
    "    stock_list = list(DF[DF_list[i]].keys())#stock_list陣列存的是公司的編號\n",
    "    stock_list.remove('id')\n",
    "    \n",
    "\n",
    "    for stock in stock_list:\n",
    "        \n",
    "#        if stock not in DF[DF_list[i+1]].keys():#stock_list裡的公司編號stock不在dictionary content裡的話，就重新for迴圈\n",
    "#            continue\n",
    "            \n",
    "        tmp = []   \n",
    "        for j in range(0, 5):#把所取第一天之後五天的資料建成30筆資料的陣列，依序從第六天、第五天...第二天排列。假如我取2017-10-06開始依序\n",
    "            #是2017-10-11、2017-10-12、2017-10-13、2017-10-16、2017-10-17、2017-10-18共7天(至少要取7天)，則30筆資料不包刮2017-10-06的\n",
    "            if stock not in DF[DF_list[i-j-1]].keys():\n",
    "                break\n",
    "            for attr in ['adj_close','close','high','low','open','volume']:\n",
    "                if DF[DF_list[i-j-1]][stock][attr] == None or DF[DF_list[i-j-1]][stock][attr] == 'NULL':\n",
    "                    break\n",
    "                if attr == 'close':\n",
    "                    C_td.append(float(DF[DF_list[i-j-1]][stock]['close']))\n",
    "                if attr == 'open':\n",
    "                    O_td.append(float(DF[DF_list[i-j-1]][stock]['open']))\n",
    "                if attr != 'close':\n",
    "                    tmp.append(float(DF[DF_list[i-j-1]][stock][attr]))\n",
    "            \n",
    "            \n",
    "        if len(tmp) != 25:\n",
    "            continue\n",
    "        Close_td.append(C_td)\n",
    "        Open_td.append(O_td)\n",
    "        stock_feature.append(tmp)\n",
    "        new_sym.append(stock)\n",
    "            \n",
    "        if DF[DF_list[i]][stock]['close'] != 'NULL' and DF[DF_list[i]][stock]['close'] != None:\n",
    "            #ans = 1 if float(content[day_list[i+1]][stock]['close']) - float(content[day_list[i]][stock]['close']) > 0 else 0\n",
    "            ans = float(DF[DF_list[i]][stock]['close'])\n",
    "            \n",
    "            pre_close.append(ans)#answer是第n+1天的收盤價\n",
    "            #stock_feature.append(tmp)#stock_feature是第n天以前5天的所有資料        \n"
   ]
  },
  {
   "cell_type": "code",
   "execution_count": null,
   "metadata": {},
   "outputs": [],
   "source": [
    "for symbol in Stock_sym:\n",
    "    tmp = []\n",
    "    for i in range(0,count):\n",
    "        if symbol not in files_recent[fr_list[-1-i]].keys():\n",
    "            break\n",
    "        for attr in ['adj_close','close','high','low','open','volume']: #['adj_close','close','high','low','open','volume']:\n",
    "            if files_recent[fr_list[-1-i]][symbol][attr] == None or files_recent[fr_list[-1-i]][symbol][attr] == 'NULL':\n",
    "                break\n",
    "            if attr == 'close':\n",
    "                C.append(float(files_recent[fr_list[-1-i]][symbol]['close']))\n",
    "            if attr == 'open':\n",
    "                O.append(float(files_recent[fr_list[-1-i]][symbol]['open']))\n",
    "            if attr != 'close':\n",
    "                tmp.append(float(files_recent[fr_list[-1-i]][symbol][attr]))\n",
    "                \n",
    "    if len(tmp) != 25:\n",
    "        continue\n",
    "    Close.append(C)\n",
    "    Open.append(O)\n",
    "    Stock_feature.append(tmp)\n",
    "    New_sym.append(symbol)"
   ]
  },
  {
   "cell_type": "markdown",
   "metadata": {},
   "source": [
    "## Load Model & Predict"
   ]
  },
  {
   "cell_type": "code",
   "execution_count": null,
   "metadata": {},
   "outputs": [],
   "source": []
  }
 ],
 "metadata": {
  "kernelspec": {
   "display_name": "Python 3",
   "language": "python",
   "name": "python3"
  },
  "language_info": {
   "codemirror_mode": {
    "name": "ipython",
    "version": 3
   },
   "file_extension": ".py",
   "mimetype": "text/x-python",
   "name": "python",
   "nbconvert_exporter": "python",
   "pygments_lexer": "ipython3",
   "version": "3.7.0"
  }
 },
 "nbformat": 4,
 "nbformat_minor": 2
}
