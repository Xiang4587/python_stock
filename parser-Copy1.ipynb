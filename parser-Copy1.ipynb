{
 "cells": [
  {
   "cell_type": "markdown",
   "metadata": {},
   "source": [
    "## Load Data"
   ]
  },
  {
   "cell_type": "code",
   "execution_count": 1,
   "metadata": {},
   "outputs": [],
   "source": [
    "import json\n",
    "import numpy as np\n",
    "import pandas as pd\n",
    "import os"
   ]
  },
  {
   "cell_type": "code",
   "execution_count": 2,
   "metadata": {},
   "outputs": [],
   "source": [
    "path = 'json/'\n",
    "filename = [] #json資料夾下所有檔案名稱(YYYY-MM-DD.json)\n",
    "DF_list = []  #YYYY-MM-DD\n",
    "\n",
    "for i in os.listdir(path):\n",
    "    filename.append(i)\n",
    "    DF_list.append(i[:-5])"
   ]
  },
  {
   "cell_type": "code",
   "execution_count": 3,
   "metadata": {},
   "outputs": [
    {
     "name": "stdout",
     "output_type": "stream",
     "text": [
      "2018-10-02\n"
     ]
    }
   ],
   "source": [
    "day = input()\n",
    "day_index = DF_list.index(day)"
   ]
  },
  {
   "cell_type": "code",
   "execution_count": 4,
   "metadata": {},
   "outputs": [
    {
     "name": "stdout",
     "output_type": "stream",
     "text": [
      "['2018-09-25', '2018-09-26', '2018-09-27', '2018-09-28', '2018-10-01']\n"
     ]
    }
   ],
   "source": [
    "#------------Stored testing data---------------\n",
    "files_recent = {}\n",
    "fr_list = []\n",
    "count = 5\n",
    "\n",
    "for i in range(day_index-count,day_index):\n",
    "    fr_list.append(filename[i][:-5])\n",
    "    with open(path+filename[i]) as f:\n",
    "        symbol_f = json.load(f)\n",
    "    files_recent[filename[i][:-5]] = symbol_f\n",
    "    f.close\n",
    "\n",
    "print(fr_list)"
   ]
  },
  {
   "cell_type": "code",
   "execution_count": 5,
   "metadata": {},
   "outputs": [
    {
     "name": "stdout",
     "output_type": "stream",
     "text": [
      "dict_keys(['adj_close', 'close', 'high', 'low', 'open', 'volume'])\n"
     ]
    }
   ],
   "source": [
    "print(files_recent['2018-10-01']['0050'].keys())"
   ]
  },
  {
   "cell_type": "code",
   "execution_count": 6,
   "metadata": {},
   "outputs": [],
   "source": [
    "Stock_sym = [sym for sym in files_recent[fr_list[-1]].keys()]\n",
    "Stock_sym.remove('id')\n",
    "New_sym = []\n",
    "Stock_feature = []\n",
    "Close = []\n",
    "Open = []\n",
    "Volume = []\n",
    "C = []\n",
    "O = []\n",
    "\n",
    "for symbol in Stock_sym:\n",
    "    tmp = []\n",
    "    for i in range(0,count):\n",
    "        if symbol not in files_recent[fr_list[-1-i]].keys():\n",
    "            break\n",
    "        for attr in ['adj_close','close','high','low','open','volume']: #['adj_close','close','high','low','open','volume']:\n",
    "            if files_recent[fr_list[-1-i]][symbol][attr] == None or files_recent[fr_list[-1-i]][symbol][attr] == 'NULL':\n",
    "                break\n",
    "            if attr == 'close':\n",
    "                C.append(float(files_recent[fr_list[-1-i]][symbol]['close']))\n",
    "            if attr == 'open':\n",
    "                O.append(float(files_recent[fr_list[-1-i]][symbol]['open']))\n",
    "            if attr != 'close':\n",
    "                tmp.append(float(files_recent[fr_list[-1-i]][symbol][attr]))\n",
    "                \n",
    "    if len(tmp) != 25:\n",
    "        continue\n",
    "    Close.append(C)\n",
    "    Open.append(O)\n",
    "    Stock_feature.append(tmp)\n",
    "    New_sym.append(symbol)"
   ]
  },
  {
   "cell_type": "code",
   "execution_count": null,
   "metadata": {},
   "outputs": [],
   "source": [
    "New_sym = numpy.array(New_sym)\n",
    "recent_days = numpy.array(Stock_feature)\n",
    "stock_close = numpy.array(Close)\n",
    "stock_open = numpy.array(Open)\n",
    "\n",
    "numpy.save('../output/recent_days', recent_days)\n",
    "numpy.save('../output/close_today', close_today)\n",
    "\n",
    "x_predicted = numpy.load('../output/recent_days.npy')\n",
    "y_today = numpy.load('../output/close_today.npy')"
   ]
  },
  {
   "cell_type": "markdown",
   "metadata": {},
   "source": [
    "## 取一個月的時間作為Trainning Data"
   ]
  },
  {
   "cell_type": "code",
   "execution_count": 7,
   "metadata": {},
   "outputs": [],
   "source": [
    "#-----------Stored trainning data--------------\n",
    "fro = filename.index('2017-06-01.json')\n",
    "to = filename.index('2017-09-30.json')\n",
    "\n",
    "DF_list = [filename[d][:-5] for d in range(fro,to+1)]\n",
    "DF = {}\n",
    "for i in range(fro,to+1):\n",
    "    with open('json/'+filename[i]) as f:\n",
    "        symbol_f = json.load(f)\n",
    "    DF[filename[i][:-5]] = symbol_f\n",
    "    f.close()"
   ]
  },
  {
   "cell_type": "code",
   "execution_count": null,
   "metadata": {
    "scrolled": true
   },
   "outputs": [],
   "source": [
    "stock_feature = []\n",
    "close_td = []\n",
    "O_td = []\n",
    "C_td = []\n",
    "Open_td = []\n",
    "Close_td = []\n",
    "new_sym = []\n",
    "\n",
    "for i in range(5, len(DF_list)-1):#i自5開始\n",
    "    stock_list = DF[DF_list[i]].keys()#stock_list陣列存的是公司的編號\n",
    "    stock_list.remove('id')\n",
    "    \n",
    "\n",
    "    for stock in stock_list:\n",
    "        \n",
    "        if stock not in DF[DF_list[i+1]].keys():#stock_list裡的公司編號stock不在dictionary content裡的話，就重新for迴圈\n",
    "            continue\n",
    "            \n",
    "        tmp = []   \n",
    "        for j in range(0, 5):#把所取第一天之後五天的資料建成30筆資料的陣列，依序從第六天、第五天...第二天排列。假如我取2017-10-06開始依序\n",
    "            #是2017-10-11、2017-10-12、2017-10-13、2017-10-16、2017-10-17、2017-10-18共7天(至少要取7天)，則30筆資料不包刮2017-10-06的\n",
    "            if stock not in DF[DF_list[i-j]].keys():\n",
    "                break\n",
    "            for attr in ['adj_close','close','high','low','open','volume']:\n",
    "                if DF[DF_list[i-j]][stock][attr] == None or DF[DF_list[i-j]][stock][attr] == 'NULL':\n",
    "                    break\n",
    "                if attr == 'close':\n",
    "                    C_td.append(float(DF[DF_list[-1-i]][stock]['close']))\n",
    "                if attr == 'open':\n",
    "                    O_td.append(float(DF[DF_list[-1-i]][stock]['open']))\n",
    "                if attr != 'close':\n",
    "                    tmp.append(float(DF[DF_list[-1-i]][stock][attr]))\n",
    "                    \n",
    "                tmp.append(float(DF[DF_list[i-j]][stock][attr]))\n",
    "            \n",
    "            \n",
    "        if len(tmp) != 25:\n",
    "            continue\n",
    "        Close_td.append(C_td)\n",
    "        Open_td.append(O_td)\n",
    "        stock_feature.append(tmp)\n",
    "        new_sym.append(stock)\n",
    "            \n",
    "        if DF[DF_list[i+1]][stock]['close'] != 'NULL' and DF[DF_list[i+1]][stock]['close'] != None:\n",
    "            #ans = 1 if float(content[day_list[i+1]][stock]['close']) - float(content[day_list[i]][stock]['close']) > 0 else 0\n",
    "            ans = float(content[day_list[i+1]][stock]['close'])\n",
    "            \n",
    "            answer.append(ans)#answer是第n+1天的收盤價\n",
    "            stock_feature.append(tmp)#stock_feature是第n天以前5天的所有資料        \n"
   ]
  },
  {
   "cell_type": "code",
   "execution_count": null,
   "metadata": {},
   "outputs": [],
   "source": [
    "for symbol in Stock_sym:\n",
    "    tmp = []\n",
    "    for i in range(0,count):\n",
    "        if symbol not in files_recent[fr_list[-1-i]].keys():\n",
    "            break\n",
    "        for attr in ['adj_close','close','high','low','open','volume']: #['adj_close','close','high','low','open','volume']:\n",
    "            if files_recent[fr_list[-1-i]][symbol][attr] == None or files_recent[fr_list[-1-i]][symbol][attr] == 'NULL':\n",
    "                break\n",
    "            if attr == 'close':\n",
    "                C.append(float(files_recent[fr_list[-1-i]][symbol]['close']))\n",
    "            if attr == 'open':\n",
    "                O.append(float(files_recent[fr_list[-1-i]][symbol]['open']))\n",
    "            if attr != 'close':\n",
    "                tmp.append(float(files_recent[fr_list[-1-i]][symbol][attr]))\n",
    "                \n",
    "    if len(tmp) != 25:\n",
    "        continue\n",
    "    Close.append(C)\n",
    "    Open.append(O)\n",
    "    Stock_feature.append(tmp)\n",
    "    New_sym.append(symbol)"
   ]
  }
 ],
 "metadata": {
  "kernelspec": {
   "display_name": "Python 3",
   "language": "python",
   "name": "python3"
  },
  "language_info": {
   "codemirror_mode": {
    "name": "ipython",
    "version": 3
   },
   "file_extension": ".py",
   "mimetype": "text/x-python",
   "name": "python",
   "nbconvert_exporter": "python",
   "pygments_lexer": "ipython3",
   "version": "3.7.0"
  }
 },
 "nbformat": 4,
 "nbformat_minor": 2
}
