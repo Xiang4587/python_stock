{
 "cells": [
  {
   "cell_type": "code",
   "execution_count": 2,
   "metadata": {},
   "outputs": [],
   "source": [
    "import json\n",
    "import numpy as np\n",
    "import pandas as pd\n",
    "import os"
   ]
  },
  {
   "cell_type": "code",
   "execution_count": 3,
   "metadata": {},
   "outputs": [],
   "source": [
    "path = 'json/'\n",
    "filename = [] #json資料夾下所有檔案名稱(YYYY-MM-DD.json)\n",
    "DF_list = []  #YYYY-MM-DD\n",
    "\n",
    "for i in os.listdir(path):\n",
    "    filename.append(i)\n",
    "    DF_list.append(i[:-5])"
   ]
  },
  {
   "cell_type": "code",
   "execution_count": 4,
   "metadata": {},
   "outputs": [
    {
     "name": "stdout",
     "output_type": "stream",
     "text": [
      "2018-10-01\n"
     ]
    }
   ],
   "source": [
    "day = input()\n",
    "day_index = DF_list.index(day)"
   ]
  },
  {
   "cell_type": "code",
   "execution_count": 5,
   "metadata": {},
   "outputs": [
    {
     "name": "stdout",
     "output_type": "stream",
     "text": [
      "['2018-09-26', '2018-09-27', '2018-09-28']\n"
     ]
    }
   ],
   "source": [
    "#------------Stored testing data---------------\n",
    "files_recent = {}\n",
    "fr_list = []\n",
    "count = 3\n",
    "\n",
    "for i in range(day_index-count,day_index):\n",
    "    fr_list.append(filename[i][:-5])\n",
    "    with open(path+filename[i]) as f:\n",
    "        symbol_f = json.load(f)\n",
    "    files_recent[filename[i][:-5]] = symbol_f\n",
    "    f.close\n",
    "\n",
    "print(fr_list)"
   ]
  },
  {
   "cell_type": "code",
   "execution_count": 6,
   "metadata": {},
   "outputs": [],
   "source": [
    "#Stock_sym = [sym for sym in files_recent[fr_list[-1]].keys()]\n",
    "#Stock_sym.remove('id')\n",
    "Stock_sym = ['0050','0051','0052']\n",
    "Stock_feature = []\n",
    "Close = []\n",
    "Open = []\n",
    "Volume = []\n",
    "\n",
    "for symbol in Stock_sym:\n",
    "    tmp = []\n",
    "    for i in range(0,count):\n",
    "        if symbol not in files_recent[fr_list[-1-i]].keys():\n",
    "            break\n",
    "        for attr in ['open','close','volume']: #['adj_close','close','high','low','open','volume']:\n",
    "            if files_recent[fr_list[-1-i]][symbol][attr] == None or files_recent[fr_list[-1-i]][symbol][attr] == 'NULL':\n",
    "                break\n",
    "            tmp.append(float(files_recent[fr_list[-1-i]][symbol][attr]))\n",
    "    if len(tmp) != 9:\n",
    "        continue\n",
    "    Stock_feature.append(tmp)\n",
    "\n",
    "    \n",
    "for p in range(len(Stock_feature)):\n",
    "    O = []\n",
    "    C = []\n",
    "    V = []\n",
    "    for q in range(len(Stock_feature[0])):\n",
    "        if (q+1)%3 == 1:\n",
    "            O.append(Stock_feature[p][q])\n",
    "        if (q+1)%3 == 2:\n",
    "            C.append(Stock_feature[p][q])\n",
    "        if (q+1)%3 == 0:\n",
    "            V.append(Stock_feature[p][q])\n",
    "    Open.append(O)\n",
    "    Close.append(C)\n",
    "    Volume.append(V)"
   ]
  },
  {
   "cell_type": "code",
   "execution_count": 7,
   "metadata": {},
   "outputs": [],
   "source": [
    "Feature = []\n",
    "for i in range(3):\n",
    "    ftmp = []\n",
    "    ftmp.append(round(sum(map(float,Open[i]))/3. , 2))\n",
    "    ftmp.append(round(sum(map(float,Close[i]))/3. , 2))\n",
    "    ftmp.append(max(Volume[i]))\n",
    "    \n",
    "    Feature.append(ftmp)"
   ]
  },
  {
   "cell_type": "code",
   "execution_count": 8,
   "metadata": {},
   "outputs": [
    {
     "name": "stdout",
     "output_type": "stream",
     "text": [
      "[[86.95, 87.05, 27800036.0], [32.91, 32.79, 43000.0], [55.8, 56.0, 109397.0]]\n"
     ]
    }
   ],
   "source": [
    "print(Feature)"
   ]
  },
  {
   "cell_type": "code",
   "execution_count": 10,
   "metadata": {},
   "outputs": [],
   "source": [
    "Feature = np.array(Feature)"
   ]
  },
  {
   "cell_type": "code",
   "execution_count": 11,
   "metadata": {},
   "outputs": [
    {
     "name": "stdout",
     "output_type": "stream",
     "text": [
      "[[8.6950000e+01 8.7050000e+01 2.7800036e+07]\n",
      " [3.2910000e+01 3.2790000e+01 4.3000000e+04]\n",
      " [5.5800000e+01 5.6000000e+01 1.0939700e+05]]\n"
     ]
    }
   ],
   "source": [
    "print(Feature)"
   ]
  }
 ],
 "metadata": {
  "kernelspec": {
   "display_name": "Python 3",
   "language": "python",
   "name": "python3"
  },
  "language_info": {
   "codemirror_mode": {
    "name": "ipython",
    "version": 3
   },
   "file_extension": ".py",
   "mimetype": "text/x-python",
   "name": "python",
   "nbconvert_exporter": "python",
   "pygments_lexer": "ipython3",
   "version": "3.7.0"
  }
 },
 "nbformat": 4,
 "nbformat_minor": 2
}
