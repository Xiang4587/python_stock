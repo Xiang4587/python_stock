{
 "cells": [
  {
   "cell_type": "markdown",
   "metadata": {},
   "source": [
    "## Load Data"
   ]
  },
  {
   "cell_type": "code",
   "execution_count": 25,
   "metadata": {},
   "outputs": [],
   "source": [
    "import json\n",
    "import numpy as np\n",
    "import pandas as pd\n",
    "import os"
   ]
  },
  {
   "cell_type": "code",
   "execution_count": 26,
   "metadata": {},
   "outputs": [],
   "source": [
    "path = '/home/mlb/res/stock/twse/json/'\n",
    "filename = [] #json資料夾下所有檔案名稱(YYYY-MM-DD.json)\n",
    "DF_list = []  #YYYY-MM-DD\n",
    "\n",
    "for i in os.listdir(path):\n",
    "    filename.append(i)\n",
    "    DF_list.append(i[:-5])\n",
    "filename = sorted(filename)\n",
    "DF_list = sorted(DF_list)"
   ]
  },
  {
   "cell_type": "code",
   "execution_count": 33,
   "metadata": {},
   "outputs": [
    {
     "name": "stdout",
     "output_type": "stream",
     "text": [
      "['2018-10-05', '2018-10-08', '2018-10-09', '2018-10-11', '2018-10-12']\n"
     ]
    }
   ],
   "source": [
    "#------------Stored testing data---------------\n",
    "files_recent = {}\n",
    "fr_list = [DF_list[-5],DF_list[-4],DF_list[-3],DF_list[-2],DF_list[-1]]\n",
    "count = 5\n",
    "for i in fr_list:\n",
    "    with open(path+i+'.json') as f:\n",
    "        symbol_f = json.load(f)\n",
    "    files_recent[i] = symbol_f\n",
    "    f.close\n",
    "#'''\n",
    "#for i in range(day_index-count,day_index):\n",
    "#    fr_list.append(filename[i][:-5])\n",
    "#    with open(path+filename[i]) as f:\n",
    "#        symbol_f = json.load(f)\n",
    "#    files_recent[filename[i][:-5]] = symbol_f\n",
    "#    f.close\n",
    "#'''\n",
    "print(fr_list)"
   ]
  },
  {
   "cell_type": "code",
   "execution_count": 34,
   "metadata": {},
   "outputs": [],
   "source": [
    "Stock_sym = [sym for sym in files_recent[fr_list[-1]].keys()]\n",
    "Stock_sym.remove('id')\n",
    "New_sym = []\n",
    "Stock_feature = []\n",
    "Close = []\n",
    "Open = []\n",
    "#Volume = []\n",
    "#C = []\n",
    "#O = []\n",
    "\n",
    "for symbol in Stock_sym:\n",
    "    tmp = []\n",
    "    for i in range(0,count):\n",
    "        if symbol not in files_recent[fr_list[-1-i]].keys():\n",
    "            break\n",
    "        for attr in ['adj_close','close','high','low','open','volume']: #['adj_close','close','high','low','open','volume']:\n",
    "            if files_recent[fr_list[-1-i]][symbol][attr] == None or files_recent[fr_list[-1-i]][symbol][attr] == 'NULL':\n",
    "                break\n",
    "            #if attr == 'close':\n",
    "            #    C.append(float(files_recent[fr_list[-1-i]][symbol]['close']))\n",
    "            #if attr == 'open':\n",
    "            #    O.append(float(files_recent[fr_list[-1-i]][symbol]['open']))\n",
    "            #if attr != 'close':\n",
    "            tmp.append(float(files_recent[fr_list[-1-i]][symbol][attr]))\n",
    "                \n",
    "    if len(tmp) != 30:\n",
    "        continue\n",
    "    if files_recent[fr_list[-1]][symbol]['close'] != None and files_recent[fr_list[-1]][symbol]['close'] != 'NULL':\n",
    "        Stock_feature.append(tmp)\n",
    "        New_sym.append(symbol)\n",
    "        Close.append(float(files_recent[fr_list[-1]][symbol]['close']))\n",
    "        Open.append(float(files_recent[fr_list[-1]][symbol]['open']))"
   ]
  },
  {
   "cell_type": "code",
   "execution_count": 43,
   "metadata": {},
   "outputs": [],
   "source": [
    "#print(len(Stock_feature))\n",
    "#print(len(New_sym))\n",
    "#print(len(Close))\n",
    "#print(len(Open))"
   ]
  },
  {
   "cell_type": "code",
   "execution_count": 36,
   "metadata": {},
   "outputs": [],
   "source": [
    "New_sym = np.array(New_sym)\n",
    "recent_days = np.array(Stock_feature)\n",
    "close_today = np.array(Close)\n",
    "stock_open = np.array(Open)\n",
    "\n",
    "np.save('output/recent_days', recent_days)\n",
    "np.save('output/close_today', close_today)\n",
    "np.save('output/stock_open', stock_open)\n",
    "np.save('output/New_sym', New_sym)"
   ]
  },
  {
   "cell_type": "markdown",
   "metadata": {},
   "source": [
    "## 取三個月的時間作為Trainning Data"
   ]
  },
  {
   "cell_type": "code",
   "execution_count": 171,
   "metadata": {},
   "outputs": [],
   "source": [
    "#-----------Stored trainning data--------------\n",
    "#fro = filename.index('2018-07-04.json')\n",
    "to = filename.index('2018-10-04.json')\n",
    "count1 = 90\n",
    "\n",
    "DF_list = [filename[d][:-5] for d in range(to-count1+1,to+1)]\n",
    "DF = {}\n",
    "for i in range(to-count1+1,to+1):\n",
    "    with open(path+filename[i]) as f:\n",
    "        symbol_f = json.load(f)\n",
    "    DF[filename[i][:-5]] = symbol_f\n",
    "    f.close()"
   ]
  },
  {
   "cell_type": "code",
   "execution_count": 177,
   "metadata": {
    "scrolled": true
   },
   "outputs": [],
   "source": [
    "stock_feature = []\n",
    "new_sym = []\n",
    "pre_close =[]\n",
    "\n",
    "for i in range(5, len(DF_list)):\n",
    "    stock_list = list(DF[DF_list[i]].keys())\n",
    "    stock_list.remove('id')\n",
    "    \n",
    "\n",
    "    for stock in stock_list:  \n",
    "        tmp = []   \n",
    "        for j in range(0, 5):\n",
    "            if stock not in DF[DF_list[i-j-1]].keys():\n",
    "                break\n",
    "            for attr in ['adj_close','close','high','low','open','volume']:\n",
    "                if DF[DF_list[i-j-1]][stock][attr] == None or DF[DF_list[i-j-1]][stock][attr] == 'NULL':\n",
    "                    break\n",
    "                #if attr != 'close':\n",
    "                tmp.append(float(DF[DF_list[i-j-1]][stock][attr]))\n",
    "            \n",
    "            \n",
    "        if len(tmp) != 25:\n",
    "            continue\n",
    "            \n",
    "        if DF[DF_list[i]][stock]['close'] != 'NULL' and DF[DF_list[i]][stock]['close'] != None:\n",
    "            #ans = 1 if float(content[day_list[i+1]][stock]['close']) - float(content[day_list[i]][stock]['close']) > 0 else 0           \n",
    "            new_sym.append(stock)\n",
    "            stock_feature.append(tmp)\n",
    "            pre_close.append(float(DF[DF_list[i]][stock]['close']))"
   ]
  },
  {
   "cell_type": "code",
   "execution_count": 146,
   "metadata": {},
   "outputs": [
    {
     "name": "stdout",
     "output_type": "stream",
     "text": [
      "468621\n",
      "468621\n",
      "468621\n"
     ]
    }
   ],
   "source": [
    "print(len(pre_close))\n",
    "print(len(stock_feature))\n",
    "print(len(new_sym))"
   ]
  },
  {
   "cell_type": "code",
   "execution_count": 147,
   "metadata": {},
   "outputs": [],
   "source": [
    "new_sym = np.array(new_sym)\n",
    "X = np.array(stock_feature)\n",
    "\n",
    "Y = np.array(pre_close)\n",
    "row = int(round(0.9*len(new_sym)))\n",
    "X_train = X[:row]\n",
    "Y_train = Y[:row]\n",
    "X_test = X[row:]\n",
    "Y_test = Y[row:]"
   ]
  },
  {
   "cell_type": "code",
   "execution_count": 148,
   "metadata": {},
   "outputs": [
    {
     "name": "stdout",
     "output_type": "stream",
     "text": [
      "421759 421759\n",
      "46862 46862\n"
     ]
    }
   ],
   "source": [
    "print(len(X_train),len(Y_train))\n",
    "print(len(X_test),len(Y_test))"
   ]
  },
  {
   "cell_type": "code",
   "execution_count": 149,
   "metadata": {},
   "outputs": [],
   "source": [
    "np.save('output/X_train_181004.npy', X_train)\n",
    "np.save('output/Y_train_181004.npy', Y_train)\n",
    "np.save('output/X_test_181004.npy', X_test)\n",
    "np.save('output/Y_test_181004.npy', Y_test)"
   ]
  },
  {
   "cell_type": "markdown",
   "metadata": {},
   "source": [
    "## Testing Model & Validation"
   ]
  },
  {
   "cell_type": "code",
   "execution_count": 150,
   "metadata": {},
   "outputs": [],
   "source": [
    "from sklearn.ensemble import RandomForestRegressor,GradientBoostingRegressor\n",
    "from sklearn.svm import SVR\n",
    "from sklearn.preprocessing import StandardScaler\n",
    "from sklearn.pipeline import Pipeline\n",
    "from sklearn.metrics import accuracy_score\n",
    "from sklearn.metrics import mean_squared_error\n",
    "import time\n",
    "from sklearn.externals import joblib\n",
    "from sklearn.metrics import mean_absolute_error"
   ]
  },
  {
   "cell_type": "code",
   "execution_count": 151,
   "metadata": {},
   "outputs": [],
   "source": [
    "X_train = np.load('output/X_train_181004.npy')\n",
    "Y_train = np.load('output/Y_train_181004.npy')\n",
    "X_test = np.load('output/X_test_181004.npy')\n",
    "Y_test = np.load('output/Y_test_181004.npy')"
   ]
  },
  {
   "cell_type": "code",
   "execution_count": 152,
   "metadata": {},
   "outputs": [],
   "source": [
    "t0 = time.time()\n",
    "clf = GradientBoostingRegressor().fit(X_train, Y_train)\n",
    "#clf = SVR(C=5, gamma=0.04).fit(X_train, Y_train)\n",
    "GBR_fit = time.time()-t0"
   ]
  },
  {
   "cell_type": "code",
   "execution_count": 153,
   "metadata": {},
   "outputs": [
    {
     "data": {
      "text/plain": [
       "['output/model/clf_GBR_181004.pkl']"
      ]
     },
     "execution_count": 153,
     "metadata": {},
     "output_type": "execute_result"
    }
   ],
   "source": [
    "#------Save Model-----------\n",
    "\n",
    "#存Model\n",
    "joblib.dump(clf, 'output/model/clf_GBR_181004.pkl')"
   ]
  },
  {
   "cell_type": "code",
   "execution_count": 154,
   "metadata": {},
   "outputs": [],
   "source": [
    "#讀取Model\n",
    "clf = joblib.load('output/model/clf_GBR_181004.pkl')"
   ]
  },
  {
   "cell_type": "code",
   "execution_count": 155,
   "metadata": {},
   "outputs": [],
   "source": [
    "t1 = time.time()\n",
    "y_pre = clf.predict(X_test)\n",
    "GBR_predict = time.time()-t1"
   ]
  },
  {
   "cell_type": "code",
   "execution_count": 156,
   "metadata": {},
   "outputs": [
    {
     "name": "stdout",
     "output_type": "stream",
     "text": [
      "1.3453623806501562\n",
      "0.30888111647879496\n"
     ]
    }
   ],
   "source": [
    "print(mean_squared_error(Y_test, y_pre)) \n",
    "print(mean_absolute_error(Y_test, y_pre))"
   ]
  },
  {
   "cell_type": "code",
   "execution_count": 168,
   "metadata": {},
   "outputs": [
    {
     "name": "stdout",
     "output_type": "stream",
     "text": [
      "[ 2.1   1.35  0.59  1.57  0.83  0.88  1.55 11.2   0.52  0.2   1.01  1.36\n",
      " 17.9   0.35 29.3   2.12  0.86  0.3   0.47  1.11]\n",
      "[ 1.81912886  1.51342627  0.61911984  1.71340128  0.79879448  0.99289007\n",
      "  1.54426515 10.27991543  0.61911984  0.31100414  0.91812312  1.45111238\n",
      " 16.80285208  0.4204853  27.5791659   2.03344693  0.79879448  0.38046822\n",
      "  0.51683514  1.07670359]\n"
     ]
    }
   ],
   "source": [
    "print(Y_test[:20])\n",
    "print(y_pre[:20])"
   ]
  },
  {
   "cell_type": "code",
   "execution_count": 157,
   "metadata": {},
   "outputs": [
    {
     "data": {
      "text/plain": [
       "0.9995051042416492"
      ]
     },
     "execution_count": 157,
     "metadata": {},
     "output_type": "execute_result"
    }
   ],
   "source": [
    "clf.score(X_test, Y_test)"
   ]
  },
  {
   "cell_type": "code",
   "execution_count": 158,
   "metadata": {},
   "outputs": [],
   "source": [
    "import matplotlib.pyplot as plt"
   ]
  },
  {
   "cell_type": "code",
   "execution_count": 159,
   "metadata": {},
   "outputs": [
    {
     "name": "stdout",
     "output_type": "stream",
     "text": [
      "[1.81912886 1.51342627 0.61911984 ... 0.79411567 0.90600747 1.05675139]\n",
      "[2.1  1.35 0.59 ... 0.78 0.74 1.04]\n"
     ]
    }
   ],
   "source": [
    "print(y_pre)\n",
    "print(Y_test)"
   ]
  },
  {
   "cell_type": "code",
   "execution_count": 176,
   "metadata": {},
   "outputs": [
    {
     "data": {
      "text/plain": [
       "<matplotlib.legend.Legend at 0x7f0421d40358>"
      ]
     },
     "execution_count": 176,
     "metadata": {},
     "output_type": "execute_result"
    },
    {
     "data": {
      "image/png": "[encoded data removed]",
      "text/plain": [
       "<Figure size 432x288 with 1 Axes>"
      ]
     },
     "metadata": {
      "needs_background": "light"
     },
     "output_type": "display_data"
    }
   ],
   "source": [
    "l1 = plt.plot(y_pre[:5], c='r', label='GBR (fit: %.3f , predict: %.3f )' %(GBR_fit, GBR_predict))\n",
    "#plt.hold(True)\n",
    "l2 = plt.plot(Y_test[:5], c='b', label='Ground Truth')\n",
    "plt.legend()\n",
    "#plt.xticks([1,2,3,4])"
   ]
  },
  {
   "cell_type": "markdown",
   "metadata": {},
   "source": [
    "## Load Model & Prediction"
   ]
  },
  {
   "cell_type": "code",
   "execution_count": 41,
   "metadata": {},
   "outputs": [
    {
     "name": "stdout",
     "output_type": "stream",
     "text": [
      "0.5311866841955883\n",
      "0.2038629759426844\n"
     ]
    }
   ],
   "source": [
    "from sklearn.metrics import mean_squared_error\n",
    "from sklearn.externals import joblib\n",
    "from sklearn.metrics import mean_absolute_error\n",
    "\n",
    "clf = joblib.load('output/model/clf_GBR_181004.pkl')\n",
    "x_predicted = np.load('output/recent_days.npy')\n",
    "y_pred = clf.predict(x_predicted)\n",
    "\n",
    "print(mean_squared_error(y_today, y_pred)) \n",
    "print(mean_absolute_error(y_today, y_pred))"
   ]
  },
  {
   "cell_type": "code",
   "execution_count": 42,
   "metadata": {},
   "outputs": [],
   "source": [
    "np.save('output/y_pred.npy', y_pred)"
   ]
  },
  {
   "cell_type": "markdown",
   "metadata": {},
   "source": [
    "## Make Decision"
   ]
  },
  {
   "cell_type": "code",
   "execution_count": 47,
   "metadata": {},
   "outputs": [
    {
     "ename": "FileNotFoundError",
     "evalue": "[Errno 2] No such file or directory: '../commit/-f_/home/mlb/users/ex4587/.local/share/jupyter/runtime/kernel-5480966f-7947-48f2-bb02-3c602c544345.json.json'",
     "output_type": "error",
     "traceback": [
      "\u001b[0;31m---------------------------------------------------------------------------\u001b[0m",
      "\u001b[0;31mFileNotFoundError\u001b[0m                         Traceback (most recent call last)",
      "\u001b[0;32m<ipython-input-47-ccba0be93a2a>\u001b[0m in \u001b[0;36m<module>\u001b[0;34m()\u001b[0m\n\u001b[1;32m     33\u001b[0m \u001b[0;31m#print(decision)\u001b[0m\u001b[0;34m\u001b[0m\u001b[0;34m\u001b[0m\u001b[0m\n\u001b[1;32m     34\u001b[0m \u001b[0;34m\u001b[0m\u001b[0m\n\u001b[0;32m---> 35\u001b[0;31m \u001b[0;32mwith\u001b[0m \u001b[0mopen\u001b[0m\u001b[0;34m(\u001b[0m\u001b[0;34m'../commit/'\u001b[0m\u001b[0;34m+\u001b[0m\u001b[0msys\u001b[0m\u001b[0;34m.\u001b[0m\u001b[0margv\u001b[0m\u001b[0;34m[\u001b[0m\u001b[0;36m1\u001b[0m\u001b[0;34m]\u001b[0m\u001b[0;34m+\u001b[0m\u001b[0;34m'_'\u001b[0m\u001b[0;34m+\u001b[0m\u001b[0msys\u001b[0m\u001b[0;34m.\u001b[0m\u001b[0margv\u001b[0m\u001b[0;34m[\u001b[0m\u001b[0;36m2\u001b[0m\u001b[0;34m]\u001b[0m\u001b[0;34m+\u001b[0m\u001b[0;34m'.json'\u001b[0m\u001b[0;34m,\u001b[0m\u001b[0;34m'w'\u001b[0m\u001b[0;34m)\u001b[0m \u001b[0;32mas\u001b[0m \u001b[0mf\u001b[0m\u001b[0;34m:\u001b[0m\u001b[0;34m\u001b[0m\u001b[0m\n\u001b[0m\u001b[1;32m     36\u001b[0m     \u001b[0mjson\u001b[0m\u001b[0;34m.\u001b[0m\u001b[0mdump\u001b[0m\u001b[0;34m(\u001b[0m\u001b[0mdecision\u001b[0m\u001b[0;34m,\u001b[0m \u001b[0mf\u001b[0m\u001b[0;34m,\u001b[0m \u001b[0mindent\u001b[0m\u001b[0;34m=\u001b[0m\u001b[0;36m4\u001b[0m\u001b[0;34m)\u001b[0m\u001b[0;34m\u001b[0m\u001b[0m\n\u001b[1;32m     37\u001b[0m     \u001b[0;31m#f.write(out)\u001b[0m\u001b[0;34m\u001b[0m\u001b[0;34m\u001b[0m\u001b[0m\n",
      "\u001b[0;31mFileNotFoundError\u001b[0m: [Errno 2] No such file or directory: '../commit/-f_/home/mlb/users/ex4587/.local/share/jupyter/runtime/kernel-5480966f-7947-48f2-bb02-3c602c544345.json.json'"
     ]
    }
   ],
   "source": [
    "import sys\n",
    "New_sym = np.load('output/New_sym.npy')\n",
    "open_today = np.load('output/stock_open.npy')\n",
    "y_today = np.load('output/close_today.npy')\n",
    "y_pred = np.load('output/y_pred.npy')\n",
    "icon = {}\n",
    "decision = []\n",
    "\n",
    "for i in range(0, len(New_sym)):\n",
    "    if float((y_pred[i]-y_today[i])/y_today[i]) >= 0.07:\n",
    "        icon['code'] = New_sym[i]\n",
    "        icon['type'] = 'buy'\n",
    "        icon['weight'] = 1\n",
    "        icon['life'] = 5\n",
    "        o = open_today[i]\n",
    "        icon['open_price'] = o\n",
    "        icon['close_high_price'] = o + float(o*0.03)\n",
    "        icon['close_low_price'] = o - float(o*0.1)\n",
    "        decision.append(icon)\n",
    "        icon = {}\n",
    "    elif float((y_pred[i]-y_today[i])/y_today[i]) <= -0.1:\n",
    "        icon['code'] = New_sym[i]\n",
    "        icon['type'] = 'short'\n",
    "        icon['weight'] = 1\n",
    "        icon['life'] = 3\n",
    "        o = open_today[i]\n",
    "        icon['open_price'] = o\n",
    "        icon['close_high_price'] = o + float(o*0.03)\n",
    "        icon['close_low_price'] = o - float(o*0.1)\n",
    "        decision.append(icon)\n",
    "        icon = {}\n",
    "#Decision[sys.argv[1]] = decision\n",
    "#print(decision)\n",
    "\n",
    "with open('../commit/'+sys.argv[1]+'_'+sys.argv[2]+'.json','w') as f:\n",
    "    json.dump(decision, f, indent=4)    \n",
    "    #f.write(out)\n",
    "#print('../commit/'+Day_list[-1][:-5]+'_'+Day_list[-1][:-5]+'.json','w')"
   ]
  },
  {
   "cell_type": "code",
   "execution_count": null,
   "metadata": {},
   "outputs": [],
   "source": []
  }
 ],
 "metadata": {
  "kernelspec": {
   "display_name": "Python 3",
   "language": "python",
   "name": "python3"
  },
  "language_info": {
   "codemirror_mode": {
    "name": "ipython",
    "version": 3
   },
   "file_extension": ".py",
   "mimetype": "text/x-python",
   "name": "python",
   "nbconvert_exporter": "python",
   "pygments_lexer": "ipython3",
   "version": "3.5.2"
  }
 },
 "nbformat": 4,
 "nbformat_minor": 2
}
