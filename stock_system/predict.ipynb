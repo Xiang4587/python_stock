{
 "cells": [
  {
   "cell_type": "code",
   "execution_count": 4,
   "metadata": {},
   "outputs": [],
   "source": [
    "from sklearn.metrics import mean_squared_error\n",
    "from sklearn.externals import joblib\n",
    "from sklearn.metrics import mean_absolute_error\n",
    "import numpy as np\n",
    "\n",
    "clf = joblib.load('../output/model/clf_GBR_181004.pkl')\n",
    "x_predicted = np.load('../output/recent_days.npy')\n",
    "print('../output/data')\n",
    "y_pred = clf.predict(x_predicted)\n",
    "\n",
    "#print(mean_squared_error(y_today, y_pred)) \n",
    "#print(mean_absolute_error(y_today, y_pred))"
   ]
  },
  {
   "cell_type": "code",
   "execution_count": 5,
   "metadata": {},
   "outputs": [
    {
     "name": "stdout",
     "output_type": "stream",
     "text": [
      "../output/y_pred\n"
     ]
    }
   ],
   "source": [
    "np.save('../output/y_pred.npy', y_pred)\n",
    "print('../output/y_pred')"
   ]
  },
  {
   "cell_type": "code",
   "execution_count": 7,
   "metadata": {},
   "outputs": [
    {
     "name": "stdout",
     "output_type": "stream",
     "text": [
      "[NbConvertApp] Converting notebook predict.ipynb to script\n",
      "[NbConvertApp] Writing 493 bytes to predict.py\n"
     ]
    }
   ],
   "source": [
    "!jupyter nbconvert --to script predict.ipynb"
   ]
  }
 ],
 "metadata": {
  "kernelspec": {
   "display_name": "Python 3",
   "language": "python",
   "name": "python3"
  },
  "language_info": {
   "codemirror_mode": {
    "name": "ipython",
    "version": 3
   },
   "file_extension": ".py",
   "mimetype": "text/x-python",
   "name": "python",
   "nbconvert_exporter": "python",
   "pygments_lexer": "ipython3",
   "version": "3.5.2"
  }
 },
 "nbformat": 4,
 "nbformat_minor": 2
}
