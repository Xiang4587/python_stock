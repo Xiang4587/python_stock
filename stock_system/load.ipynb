{
 "cells": [
  {
   "cell_type": "code",
   "execution_count": 1,
   "metadata": {},
   "outputs": [],
   "source": [
    "import json\n",
    "import numpy as np\n",
    "import pandas as pd\n",
    "import os"
   ]
  },
  {
   "cell_type": "code",
   "execution_count": 2,
   "metadata": {},
   "outputs": [],
   "source": [
    "path = '/home/mlb/res/stock/twse/json/'\n",
    "filename = [] #json資料夾下所有檔案名稱(YYYY-MM-DD.json)\n",
    "DF_list = []  #YYYY-MM-DD\n",
    "\n",
    "for i in os.listdir(path):\n",
    "    filename.append(i)\n",
    "    DF_list.append(i[:-5])\n",
    "filename = sorted(filename)\n",
    "DF_list = sorted(DF_list)"
   ]
  },
  {
   "cell_type": "code",
   "execution_count": 3,
   "metadata": {},
   "outputs": [
    {
     "name": "stdout",
     "output_type": "stream",
     "text": [
      "['2018-10-05', '2018-10-08', '2018-10-09', '2018-10-11', '2018-10-12']\n"
     ]
    }
   ],
   "source": [
    "#------------Stored testing data---------------\n",
    "files_recent = {}\n",
    "fr_list = [DF_list[-5],DF_list[-4],DF_list[-3],DF_list[-2],DF_list[-1]]\n",
    "count = 5\n",
    "for i in fr_list:\n",
    "    with open(path+i+'.json') as f:\n",
    "        symbol_f = json.load(f)\n",
    "    files_recent[i] = symbol_f\n",
    "    f.close\n",
    "#'''\n",
    "#for i in range(day_index-count,day_index):\n",
    "#    fr_list.append(filename[i][:-5])\n",
    "#    with open(path+filename[i]) as f:\n",
    "#        symbol_f = json.load(f)\n",
    "#    files_recent[filename[i][:-5]] = symbol_f\n",
    "#    f.close\n",
    "#'''\n",
    "print(fr_list)"
   ]
  },
  {
   "cell_type": "code",
   "execution_count": 4,
   "metadata": {},
   "outputs": [],
   "source": [
    "Stock_sym = [sym for sym in files_recent[fr_list[-1]].keys()]\n",
    "Stock_sym.remove('id')\n",
    "New_sym = []\n",
    "Stock_feature = []\n",
    "Close = []\n",
    "Open = []\n",
    "#Volume = []\n",
    "#C = []\n",
    "#O = []\n",
    "\n",
    "for symbol in Stock_sym:\n",
    "    tmp = []\n",
    "    for i in range(0,count):\n",
    "        if symbol not in files_recent[fr_list[-1-i]].keys():\n",
    "            break\n",
    "        for attr in ['adj_close','close','high','low','open','volume']: #['adj_close','close','high','low','open','volume']:\n",
    "            if files_recent[fr_list[-1-i]][symbol][attr] == None or files_recent[fr_list[-1-i]][symbol][attr] == 'NULL':\n",
    "                break\n",
    "            #if attr == 'close':\n",
    "            #    C.append(float(files_recent[fr_list[-1-i]][symbol]['close']))\n",
    "            #if attr == 'open':\n",
    "            #    O.append(float(files_recent[fr_list[-1-i]][symbol]['open']))\n",
    "            #if attr != 'close':\n",
    "            tmp.append(float(files_recent[fr_list[-1-i]][symbol][attr]))\n",
    "                \n",
    "    if len(tmp) != 30:\n",
    "        continue\n",
    "    if files_recent[fr_list[-1]][symbol]['close'] != None and files_recent[fr_list[-1]][symbol]['close'] != 'NULL':\n",
    "        Stock_feature.append(tmp)\n",
    "        New_sym.append(symbol)\n",
    "        Close.append(float(files_recent[fr_list[-1]][symbol]['close']))\n",
    "        Open.append(float(files_recent[fr_list[-1]][symbol]['open']))"
   ]
  },
  {
   "cell_type": "code",
   "execution_count": 6,
   "metadata": {},
   "outputs": [],
   "source": [
    "New_sym = np.array(New_sym)\n",
    "recent_days = np.array(Stock_feature)\n",
    "close_today = np.array(Close)\n",
    "stock_open = np.array(Open)\n",
    "\n",
    "np.save('../output/recent_days', recent_days)\n",
    "np.save('../output/close_today', close_today)\n",
    "np.save('../output/stock_open', stock_open)\n",
    "np.save('../output/New_sym', New_sym)"
   ]
  },
  {
   "cell_type": "code",
   "execution_count": null,
   "metadata": {},
   "outputs": [],
   "source": [
    "!jupyter nbconvert --to script hw3.ipynb"
   ]
  }
 ],
 "metadata": {
  "kernelspec": {
   "display_name": "Python 3",
   "language": "python",
   "name": "python3"
  },
  "language_info": {
   "codemirror_mode": {
    "name": "ipython",
    "version": 3
   },
   "file_extension": ".py",
   "mimetype": "text/x-python",
   "name": "python",
   "nbconvert_exporter": "python",
   "pygments_lexer": "ipython3",
   "version": "3.5.2"
  }
 },
 "nbformat": 4,
 "nbformat_minor": 2
}
