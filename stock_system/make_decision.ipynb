{
 "cells": [
  {
   "cell_type": "code",
   "execution_count": 3,
   "metadata": {},
   "outputs": [],
   "source": [
    "import sys\n",
    "import numpy as np\n",
    "New_sym = np.load('../output/New_sym.npy')\n",
    "open_today = np.load('../output/stock_open.npy')\n",
    "y_today = np.load('../output/close_today.npy')\n",
    "y_pred = np.load('../output/y_pred.npy')\n",
    "icon = {}\n",
    "decision = []\n",
    "Decision = {}\n",
    "\n",
    "for i in range(0, len(New_sym)):\n",
    "    if float((y_pred[i]-y_today[i])/y_today[i]) >= 0.07:\n",
    "        icon['code'] = New_sym[i]\n",
    "        icon['type'] = 'buy'\n",
    "        icon['weight'] = 1\n",
    "        icon['life'] = 5\n",
    "        o = open_today[i]\n",
    "        icon['open_price'] = o\n",
    "        icon['close_high_price'] = o + float(o*0.03)\n",
    "        icon['close_low_price'] = o - float(o*0.1)\n",
    "        decision.append(icon)\n",
    "        icon = {}\n",
    "    elif float((y_pred[i]-y_today[i])/y_today[i]) <= -0.1:\n",
    "        icon['code'] = New_sym[i]\n",
    "        icon['type'] = 'short'\n",
    "        icon['weight'] = 1\n",
    "        icon['life'] = 3\n",
    "        o = open_today[i]\n",
    "        icon['open_price'] = o\n",
    "        icon['close_high_price'] = o + float(o*0.03)\n",
    "        icon['close_low_price'] = o - float(o*0.1)\n",
    "        decision.append(icon)\n",
    "        icon = {}\n",
    "\n",
    "with open('../commit/'+sys.argv[1]+'_'+sys.argv[2]+'.json','w') as f:\n",
    "    json.dump(decision, f, indent=4)    \n",
    "\n",
    "print('../commit/'+sys.argv[1]+'_'+sys.argv[2]+'.json')"
   ]
  },
  {
   "cell_type": "code",
   "execution_count": null,
   "metadata": {},
   "outputs": [],
   "source": []
  }
 ],
 "metadata": {
  "kernelspec": {
   "display_name": "Python 3",
   "language": "python",
   "name": "python3"
  },
  "language_info": {
   "codemirror_mode": {
    "name": "ipython",
    "version": 3
   },
   "file_extension": ".py",
   "mimetype": "text/x-python",
   "name": "python",
   "nbconvert_exporter": "python",
   "pygments_lexer": "ipython3",
   "version": "3.5.2"
  }
 },
 "nbformat": 4,
 "nbformat_minor": 2
}
