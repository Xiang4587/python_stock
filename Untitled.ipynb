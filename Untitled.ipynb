{
 "cells": [
  {
   "cell_type": "code",
   "execution_count": 1,
   "metadata": {},
   "outputs": [],
   "source": [
    "import os\n",
    "import numpy\n",
    "import json\n",
    "import sys\n",
    "import pickle\n",
    "from sklearn.ensemble import RandomForestRegressor\n",
    "from sklearn.svm import SVR\n",
    "from sklearn.preprocessing import StandardScaler\n",
    "from sklearn.pipeline import Pipeline"
   ]
  },
  {
   "cell_type": "code",
   "execution_count": 2,
   "metadata": {},
   "outputs": [],
   "source": [
    "path = 'D:碩士課程//json//'\n",
    "filename_list = os.listdir(path)\n",
    "filename_list.sort()\n",
    "\n",
    "start = filename_list.index('2017-06-01' + '.json')\n",
    "end = filename_list.index('2017-09-30' + '.json')\n",
    "\n",
    "content = {}\n",
    "\n",
    "for i in range(start, end + 1):#not include end+1\n",
    "    with open(path + filename_list[i], 'r') as f:\n",
    "        tmp = json.load(f)\n",
    "    f.close()\n",
    "    content[filename_list[i][:-5]] = tmp#[:-5]是印出20xx-xx-xx.json中的20xx-xx-xx，不印出.json"
   ]
  },
  {
   "cell_type": "code",
   "execution_count": 3,
   "metadata": {},
   "outputs": [],
   "source": [
    "#print(content['2017-06-01'])"
   ]
  },
  {
   "cell_type": "code",
   "execution_count": 4,
   "metadata": {},
   "outputs": [
    {
     "name": "stdout",
     "output_type": "stream",
     "text": [
      "3297 3386\n"
     ]
    }
   ],
   "source": [
    "print(start,end)\n",
    "#print(content['2017-06-01'])"
   ]
  },
  {
   "cell_type": "code",
   "execution_count": 8,
   "metadata": {},
   "outputs": [],
   "source": [
    "test = {}\n",
    "for i in range(0, 5):    \n",
    "    with open('D:碩士課程//json//'+filename_list[-1-i]) as f:\n",
    "        rawdata = json.load(f)\n",
    "    f.close()\n",
    "    test[filename_list[-1-i]] = rawdata"
   ]
  },
  {
   "cell_type": "code",
   "execution_count": 15,
   "metadata": {},
   "outputs": [],
   "source": [
    "Day_list = sorted(list(test.keys()))\n",
    "Answer = []\n",
    "Open = []\n",
    "Stock_feature = []    \n",
    "Stock_list = sorted(list(test[Day_list[-1]].keys()))\n",
    "new_Stock_list = []\n",
    "Stock_list.remove('id')\n",
    "#print(Stock_list)"
   ]
  },
  {
   "cell_type": "code",
   "execution_count": 19,
   "metadata": {},
   "outputs": [],
   "source": [
    "for Stock in Stock_list:\n",
    "    tmp = []\n",
    "    for i in range(0, 5):\n",
    "        if Stock not in test[Day_list[-1-i]].keys():\n",
    "            break\n",
    "        for attr in ['open', 'close', 'high', 'low', 'adj_close', 'volume']:\n",
    "            if test[Day_list[-1-i]][Stock][attr] == None:\n",
    "                break\n",
    "            if test[Day_list[-1-i]][Stock][attr] == 'NULL':\n",
    "                break\n",
    "            tmp.append(float(test[Day_list[-1-i]][Stock][attr]))    \n",
    "            #Stock_feature.append(tmp)\n",
    "          \n",
    "    if len(tmp) != 30:\n",
    "        continue\n",
    "    if test[Day_list[-1]][Stock]['close'] != 'NULL' and test[Day_list[-1]][Stock]['close'] != None:\n",
    "        new_Stock_list.append(Stock)\n",
    "        Ans = float(test[Day_list[-1-i]][Stock]['close'])\n",
    "        O = float(test[Day_list[-1-i]][Stock]['open'])\n",
    "        Stock_feature.append(tmp)\n",
    "        Answer.append(Ans)\n",
    "        Open.append(O)"
   ]
  },
  {
   "cell_type": "code",
   "execution_count": 24,
   "metadata": {},
   "outputs": [
    {
     "name": "stdout",
     "output_type": "stream",
     "text": [
      "[94.6, 90.0, 94.6, 89.1, 90.0, 19924320.0, 91.4, 92.5, 93.6, 86.8, 92.4, 29066044.0, 99.9, 90.9, 100.5, 90.4, 90.9, 33655755.0, 97.2, 99.0, 99.9, 96.1, 98.9, 25105248.0, 93.5, 100.0, 100.0, 91.8, 99.9, 33999801.0]\n",
      "30\n"
     ]
    }
   ],
   "source": [
    "print(tmp)\n",
    "print(len(tmp))\n",
    "#print(Open)"
   ]
  },
  {
   "cell_type": "code",
   "execution_count": 21,
   "metadata": {},
   "outputs": [
    {
     "name": "stdout",
     "output_type": "stream",
     "text": [
      "5358\n"
     ]
    }
   ],
   "source": [
    "#print(Stock_feature)\n",
    "print(len(Stock_feature))"
   ]
  },
  {
   "cell_type": "code",
   "execution_count": 26,
   "metadata": {},
   "outputs": [
    {
     "name": "stdout",
     "output_type": "stream",
     "text": [
      "['0050' '0051' '0052' ... '9946' '9955' '9958']\n",
      "5358\n"
     ]
    }
   ],
   "source": [
    "New_Stock_list = numpy.array(new_Stock_list)\n",
    "recent_days = numpy.array(Stock_feature)\n",
    "close_today = numpy.array(Answer)\n",
    "open_today = numpy.array(Open)\n",
    "print(New_Stock_list)\n",
    "print(len(New_Stock_list))\n",
    "\n",
    "numpy.save('../output/recent_days', recent_days)\n",
    "numpy.save('../output/close_today', close_today)\n",
    "x_predicted = numpy.load('../output/recent_days.npy')\n",
    "y_today = numpy.load('../output/close_today.npy')"
   ]
  },
  {
   "cell_type": "code",
   "execution_count": null,
   "metadata": {},
   "outputs": [],
   "source": [
    "stock_feature = []\n",
    "answer = []\n",
    "day_list = sorted(list(content.keys()))\n",
    "#print(day_list)\n",
    "for i in range(5, len(day_list)-1):#i自5開始\n",
    "    #print(day_list[i])\n",
    "    stock_list = sorted(list(content[day_list[i]].keys()))#stock_list陣列存的是公司的編號\n",
    "    stock_list.remove('id')\n",
    "    #print(stock_list)\n",
    "    for stock in stock_list:\n",
    "        #print(day_list[i+1])\n",
    "        if stock not in content[day_list[i+1]].keys():#stock_list裡的公司編號stock不在dictionary content裡的話，就重新for迴圈\n",
    "            continue\n",
    "        tmp = []\n",
    "        # print(stock)\n",
    "        for j in range(0, 5):#把所取第一天之後五天的資料建成30筆資料的陣列，依序從第六天、第五天...第二天排列。假如我取2017-10-06開始依序\n",
    "            #是2017-10-11、2017-10-12、2017-10-13、2017-10-16、2017-10-17、2017-10-18共7天(至少要取7天)，則30筆資料不包刮2017-10-06的\n",
    "            if stock not in content[day_list[i-j]].keys():\n",
    "                break\n",
    "            for attr in ['open', 'close', 'high', 'low', 'adj_close', 'volume']:\n",
    "                if content[day_list[i-j]][stock][attr] == None:\n",
    "                    break\n",
    "                if content[day_list[i-j]][stock][attr] == 'NULL':\n",
    "                    break\n",
    "                tmp.append(float(content[day_list[i-j]][stock][attr]))\n",
    "            #print(len(tmp))\n",
    "        if len(tmp) != 30:\n",
    "            continue\n",
    "        if content[day_list[i+1]][stock]['close'] != 'NULL' and content[day_list[i+1]][stock]['close'] != None:\n",
    "            #ans = 1 if float(content[day_list[i+1]][stock]['close']) - float(content[day_list[i]][stock]['close']) > 0 else 0\n",
    "            ans = float(content[day_list[i+1]][stock]['close'])\n",
    "            \n",
    "            answer.append(ans)#answer是第n+1天的收盤價\n",
    "            stock_feature.append(tmp)#stock_feature是第n天以前5天的所有資料        \n",
    "X = numpy.array(stock_feature)\n",
    "Y = numpy.array(answer)\n",
    "#numpy.save('../output/tr_X', X)\n",
    "#numpy.save('../output/tr_Y', Y)\n",
    "#numpy.save('te_X', X)\n",
    "#numpy.save('te_Y', Y)\n",
    "#stock_train_X = numpy.load('../output/tr_X.npy') \n",
    "#stock_train_Y = numpy.load('../output/tr_Y.npy')\n",
    "#stock_test_X = numpy.load('te_X.npy') \n",
    "#stock_test_Y = numpy.load('te_Y.npy')\n"
   ]
  },
  {
   "cell_type": "code",
   "execution_count": null,
   "metadata": {},
   "outputs": [],
   "source": [
    "'''#RandomForestRegressor\n",
    "regr =  RandomForestRegressor(max_depth=3, random_state=0)\n",
    "regr.fit(stock_train_X, stock_train_Y)\n",
    "y_predict = regr.predict(x_predicted)\n",
    "# Save model\n",
    "f = open('model.pkl', \"wb\")\n",
    "pickle.dump(regr, f)\n",
    "# load model\n",
    "f = open('model.pkl', 'rb')\n",
    "regr2 = pickle.load(f)\n",
    "print('Test accuracy: {:.3f}'.format(regr2.score(stock_test_X, stock_test_Y)))\n",
    "'''\n",
    "'''\n",
    "#SVR\n",
    "scaler = StandardScaler()\n",
    "svr = SVR(C=5, gamma=0.04)\n",
    "clf = Pipeline([('scaler', scaler), ('svr', svr)])\n",
    "clf.fit(stock_train_X, stock_train_Y)\n",
    "y_predict = clf.predict(x_predicted)\n",
    "# Save model\n",
    "f = open('model.pkl', \"wb\")\n",
    "pickle.dump(clf, f)\n",
    "'''\n",
    "# load model\n",
    "f = open('model.pkl', 'rb')\n",
    "clf2 = pickle.load(f)\n",
    "y_predict = clf2.predict(x_predicted)\n",
    "#print('Test accuracy: {:.3f}'.format(clf2.score(stock_test_X, stock_test_Y)))\n",
    "#print('Test accuracy: {:.3f}'.format(clf2.score(x_predicted, y_today)))\n",
    "obj = {}\n",
    "decision = []\n",
    "#Decision = {}"
   ]
  },
  {
   "cell_type": "code",
   "execution_count": null,
   "metadata": {},
   "outputs": [],
   "source": [
    "for i in range(0, len(New_Stock_list)):\n",
    "    if float((y_predict[i]-y_today[i])/y_today[i]) >= 0.07:\n",
    "        obj['code'] = New_Stock_list[i]\n",
    "        obj['type'] = 'buy'\n",
    "        obj['weight'] = 1\n",
    "        obj['life'] = 5\n",
    "        n = open_today[i]\n",
    "        obj['open_price'] = n\n",
    "        obj['close_high_price'] = n+float(n*0.03)\n",
    "        obj['close_low_price'] = n-float(n*0.1)\n",
    "        decision.append(obj)\n",
    "        obj = {}\n",
    "    elif float((y_predict[i]-y_today[i])/y_today[i]) <= -0.1:\n",
    "        obj['code'] = New_Stock_list[i]\n",
    "        obj['type'] = 'short'\n",
    "        obj['weight'] = 1\n",
    "        obj['life'] = 3\n",
    "        n = open_today[i]\n",
    "        obj['open_price'] = n\n",
    "        obj['close_high_price'] = n+float(n*0.03)\n",
    "        obj['close_low_price'] = n-float(n*0.1)\n",
    "        decision.append(obj)\n",
    "        obj = {}\n",
    "#Decision[sys.argv[1]] = decision\n",
    "#print(decision)\n",
    "with open('../commit/'+sys.argv[1]+'_'+sys.argv[2]+'.json','w') as f:\n",
    "    json.dump(decision, f, indent=4)\n",
    "    #f.write(out)\n",
    "#print('../commit/'+Day_list[-1][:-5]+'_'+Day_list[-1][:-5]+'.json','w')\n"
   ]
  }
 ],
 "metadata": {
  "kernelspec": {
   "display_name": "Python 3",
   "language": "python",
   "name": "python3"
  },
  "language_info": {
   "codemirror_mode": {
    "name": "ipython",
    "version": 3
   },
   "file_extension": ".py",
   "mimetype": "text/x-python",
   "name": "python",
   "nbconvert_exporter": "python",
   "pygments_lexer": "ipython3",
   "version": "3.6.6"
  }
 },
 "nbformat": 4,
 "nbformat_minor": 2
}
